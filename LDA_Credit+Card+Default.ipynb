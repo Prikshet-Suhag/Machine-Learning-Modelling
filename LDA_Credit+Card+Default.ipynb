{
 "cells": [
  {
   "cell_type": "markdown",
   "metadata": {},
   "source": [
    "# Problem Statement - Credit Card Defualt Status\n",
    "# Predictive Modeling - Linear Discriminant Analysis"
   ]
  },
  {
   "cell_type": "code",
   "execution_count": 1,
   "metadata": {
    "ExecuteTime": {
     "end_time": "2020-03-03T12:25:12.970617Z",
     "start_time": "2020-03-03T12:25:12.952666Z"
    }
   },
   "outputs": [],
   "source": [
    "#Import all necessary modules\n",
    "import pandas as pd  ###Software library written for the Python programming language for data manipulation and analysis.\n",
    "import numpy as np ### fundamental package for scientific computing with Python\n",
    "import os ### using operating system dependent functionality\n",
    "import scipy.stats as stats\n",
    "import matplotlib.pyplot as plt \n",
    "plt.rc(\"font\", size=14)\n",
    "import seaborn as sns\n",
    "sns.set(style=\"white\")\n",
    "sns.set(style=\"whitegrid\", color_codes=True)\n",
    "\n",
    "from sklearn.discriminant_analysis import LinearDiscriminantAnalysis\n",
    "from sklearn.metrics import confusion_matrix\n",
    "from sklearn.preprocessing import scale"
   ]
  },
  {
   "cell_type": "markdown",
   "metadata": {},
   "source": [
    "# Set the working directory"
   ]
  },
  {
   "cell_type": "code",
   "execution_count": 42,
   "metadata": {
    "ExecuteTime": {
     "end_time": "2020-03-03T12:25:13.299737Z",
     "start_time": "2020-03-03T12:25:12.991599Z"
    }
   },
   "outputs": [],
   "source": [
    "#os.chdir('C:\\\\GL Class\\Solution Preparation\\Logistic Regression - Python')"
   ]
  },
  {
   "cell_type": "markdown",
   "metadata": {},
   "source": [
    "# Import Excel file"
   ]
  },
  {
   "cell_type": "markdown",
   "metadata": {},
   "source": [
    "Load the Data file into Python DataFrame using pandas read_csv method"
   ]
  },
  {
   "cell_type": "markdown",
   "metadata": {},
   "source": [
    "Ensure that data set loaded do not have any unicode character "
   ]
  },
  {
   "cell_type": "code",
   "execution_count": 2,
   "metadata": {
    "ExecuteTime": {
     "end_time": "2020-03-03T12:25:13.527127Z",
     "start_time": "2020-03-03T12:25:13.301731Z"
    }
   },
   "outputs": [],
   "source": [
    "data_df = pd.read_csv(\"default.csv\")\n"
   ]
  },
  {
   "cell_type": "markdown",
   "metadata": {},
   "source": [
    "# View Top 10 rows"
   ]
  },
  {
   "cell_type": "markdown",
   "metadata": {},
   "source": [
    "head function is used to view the top records. The number records to be view need to be  given in the parenthesis."
   ]
  },
  {
   "cell_type": "code",
   "execution_count": 3,
   "metadata": {
    "ExecuteTime": {
     "end_time": "2020-03-03T12:25:13.614892Z",
     "start_time": "2020-03-03T12:25:13.528125Z"
    }
   },
   "outputs": [
    {
     "data": {
      "text/html": [
       "<div>\n",
       "<style scoped>\n",
       "    .dataframe tbody tr th:only-of-type {\n",
       "        vertical-align: middle;\n",
       "    }\n",
       "\n",
       "    .dataframe tbody tr th {\n",
       "        vertical-align: top;\n",
       "    }\n",
       "\n",
       "    .dataframe thead th {\n",
       "        text-align: right;\n",
       "    }\n",
       "</style>\n",
       "<table border=\"1\" class=\"dataframe\">\n",
       "  <thead>\n",
       "    <tr style=\"text-align: right;\">\n",
       "      <th></th>\n",
       "      <th>Gender</th>\n",
       "      <th>Loan.Offered</th>\n",
       "      <th>Job</th>\n",
       "      <th>Work.Exp</th>\n",
       "      <th>Credit.Score</th>\n",
       "      <th>EMI.Ratio</th>\n",
       "      <th>Status</th>\n",
       "      <th>Credit.History</th>\n",
       "      <th>Own house</th>\n",
       "      <th>Purpose</th>\n",
       "      <th>Dependents</th>\n",
       "    </tr>\n",
       "  </thead>\n",
       "  <tbody>\n",
       "    <tr>\n",
       "      <th>0</th>\n",
       "      <td>Male</td>\n",
       "      <td>0</td>\n",
       "      <td>unskilled</td>\n",
       "      <td>14</td>\n",
       "      <td>86</td>\n",
       "      <td>3.0</td>\n",
       "      <td>No</td>\n",
       "      <td>poor</td>\n",
       "      <td>1</td>\n",
       "      <td>personal</td>\n",
       "      <td>2</td>\n",
       "    </tr>\n",
       "    <tr>\n",
       "      <th>1</th>\n",
       "      <td>Female</td>\n",
       "      <td>1</td>\n",
       "      <td>skilled</td>\n",
       "      <td>15</td>\n",
       "      <td>94</td>\n",
       "      <td>3.0</td>\n",
       "      <td>No</td>\n",
       "      <td>poor</td>\n",
       "      <td>1</td>\n",
       "      <td>personal</td>\n",
       "      <td>3</td>\n",
       "    </tr>\n",
       "    <tr>\n",
       "      <th>2</th>\n",
       "      <td>Male</td>\n",
       "      <td>0</td>\n",
       "      <td>unskilled</td>\n",
       "      <td>16</td>\n",
       "      <td>86</td>\n",
       "      <td>3.0</td>\n",
       "      <td>No</td>\n",
       "      <td>poor</td>\n",
       "      <td>1</td>\n",
       "      <td>personal</td>\n",
       "      <td>2</td>\n",
       "    </tr>\n",
       "    <tr>\n",
       "      <th>3</th>\n",
       "      <td>Female</td>\n",
       "      <td>1</td>\n",
       "      <td>skilled</td>\n",
       "      <td>13</td>\n",
       "      <td>94</td>\n",
       "      <td>3.0</td>\n",
       "      <td>No</td>\n",
       "      <td>poor</td>\n",
       "      <td>1</td>\n",
       "      <td>personal</td>\n",
       "      <td>3</td>\n",
       "    </tr>\n",
       "    <tr>\n",
       "      <th>4</th>\n",
       "      <td>Male</td>\n",
       "      <td>1</td>\n",
       "      <td>skilled</td>\n",
       "      <td>12</td>\n",
       "      <td>85</td>\n",
       "      <td>3.3</td>\n",
       "      <td>No</td>\n",
       "      <td>poor</td>\n",
       "      <td>1</td>\n",
       "      <td>personal</td>\n",
       "      <td>2</td>\n",
       "    </tr>\n",
       "    <tr>\n",
       "      <th>5</th>\n",
       "      <td>Female</td>\n",
       "      <td>1</td>\n",
       "      <td>Management</td>\n",
       "      <td>12</td>\n",
       "      <td>86</td>\n",
       "      <td>3.6</td>\n",
       "      <td>No</td>\n",
       "      <td>critical</td>\n",
       "      <td>1</td>\n",
       "      <td>personal</td>\n",
       "      <td>4</td>\n",
       "    </tr>\n",
       "    <tr>\n",
       "      <th>6</th>\n",
       "      <td>Female</td>\n",
       "      <td>1</td>\n",
       "      <td>Management</td>\n",
       "      <td>15</td>\n",
       "      <td>86</td>\n",
       "      <td>3.6</td>\n",
       "      <td>No</td>\n",
       "      <td>critical</td>\n",
       "      <td>1</td>\n",
       "      <td>personal</td>\n",
       "      <td>4</td>\n",
       "    </tr>\n",
       "    <tr>\n",
       "      <th>7</th>\n",
       "      <td>Male</td>\n",
       "      <td>1</td>\n",
       "      <td>skilled</td>\n",
       "      <td>12</td>\n",
       "      <td>85</td>\n",
       "      <td>3.6</td>\n",
       "      <td>No</td>\n",
       "      <td>poor</td>\n",
       "      <td>1</td>\n",
       "      <td>personal</td>\n",
       "      <td>2</td>\n",
       "    </tr>\n",
       "    <tr>\n",
       "      <th>8</th>\n",
       "      <td>Male</td>\n",
       "      <td>1</td>\n",
       "      <td>skilled</td>\n",
       "      <td>13</td>\n",
       "      <td>87</td>\n",
       "      <td>3.9</td>\n",
       "      <td>No</td>\n",
       "      <td>critical</td>\n",
       "      <td>1</td>\n",
       "      <td>personal</td>\n",
       "      <td>2</td>\n",
       "    </tr>\n",
       "    <tr>\n",
       "      <th>9</th>\n",
       "      <td>Male</td>\n",
       "      <td>1</td>\n",
       "      <td>skilled</td>\n",
       "      <td>13</td>\n",
       "      <td>89</td>\n",
       "      <td>4.0</td>\n",
       "      <td>No</td>\n",
       "      <td>critical</td>\n",
       "      <td>1</td>\n",
       "      <td>personal</td>\n",
       "      <td>0</td>\n",
       "    </tr>\n",
       "  </tbody>\n",
       "</table>\n",
       "</div>"
      ],
      "text/plain": [
       "   Gender  Loan.Offered         Job  Work.Exp  Credit.Score  EMI.Ratio Status  \\\n",
       "0    Male             0   unskilled        14            86        3.0     No   \n",
       "1  Female             1     skilled        15            94        3.0     No   \n",
       "2    Male             0   unskilled        16            86        3.0     No   \n",
       "3  Female             1     skilled        13            94        3.0     No   \n",
       "4    Male             1     skilled        12            85        3.3     No   \n",
       "5  Female             1  Management        12            86        3.6     No   \n",
       "6  Female             1  Management        15            86        3.6     No   \n",
       "7    Male             1     skilled        12            85        3.6     No   \n",
       "8    Male             1     skilled        13            87        3.9     No   \n",
       "9    Male             1     skilled        13            89        4.0     No   \n",
       "\n",
       "  Credit.History  Own house   Purpose  Dependents  \n",
       "0           poor          1  personal           2  \n",
       "1           poor          1  personal           3  \n",
       "2           poor          1  personal           2  \n",
       "3           poor          1  personal           3  \n",
       "4           poor          1  personal           2  \n",
       "5       critical          1  personal           4  \n",
       "6       critical          1  personal           4  \n",
       "7           poor          1  personal           2  \n",
       "8       critical          1  personal           2  \n",
       "9       critical          1  personal           0  "
      ]
     },
     "execution_count": 3,
     "metadata": {},
     "output_type": "execute_result"
    }
   ],
   "source": [
    "data_df.head(10)"
   ]
  },
  {
   "cell_type": "markdown",
   "metadata": {},
   "source": [
    "# Some more basic commands"
   ]
  },
  {
   "cell_type": "markdown",
   "metadata": {},
   "source": [
    "tail function is used to view the last records. The number records to be view need to be given in the parenthesis."
   ]
  },
  {
   "cell_type": "code",
   "execution_count": 4,
   "metadata": {
    "ExecuteTime": {
     "end_time": "2020-03-03T12:25:13.827325Z",
     "start_time": "2020-03-03T12:25:13.616887Z"
    },
    "scrolled": true
   },
   "outputs": [
    {
     "data": {
      "text/html": [
       "<div>\n",
       "<style scoped>\n",
       "    .dataframe tbody tr th:only-of-type {\n",
       "        vertical-align: middle;\n",
       "    }\n",
       "\n",
       "    .dataframe tbody tr th {\n",
       "        vertical-align: top;\n",
       "    }\n",
       "\n",
       "    .dataframe thead th {\n",
       "        text-align: right;\n",
       "    }\n",
       "</style>\n",
       "<table border=\"1\" class=\"dataframe\">\n",
       "  <thead>\n",
       "    <tr style=\"text-align: right;\">\n",
       "      <th></th>\n",
       "      <th>Gender</th>\n",
       "      <th>Loan.Offered</th>\n",
       "      <th>Job</th>\n",
       "      <th>Work.Exp</th>\n",
       "      <th>Credit.Score</th>\n",
       "      <th>EMI.Ratio</th>\n",
       "      <th>Status</th>\n",
       "      <th>Credit.History</th>\n",
       "      <th>Own house</th>\n",
       "      <th>Purpose</th>\n",
       "      <th>Dependents</th>\n",
       "    </tr>\n",
       "  </thead>\n",
       "  <tbody>\n",
       "    <tr>\n",
       "      <th>761</th>\n",
       "      <td>Male</td>\n",
       "      <td>1</td>\n",
       "      <td>Management</td>\n",
       "      <td>0</td>\n",
       "      <td>43</td>\n",
       "      <td>14.0</td>\n",
       "      <td>Default</td>\n",
       "      <td>good</td>\n",
       "      <td>0</td>\n",
       "      <td>car</td>\n",
       "      <td>1</td>\n",
       "    </tr>\n",
       "    <tr>\n",
       "      <th>762</th>\n",
       "      <td>Male</td>\n",
       "      <td>1</td>\n",
       "      <td>Management</td>\n",
       "      <td>2</td>\n",
       "      <td>47</td>\n",
       "      <td>14.0</td>\n",
       "      <td>Default</td>\n",
       "      <td>verygood</td>\n",
       "      <td>0</td>\n",
       "      <td>car</td>\n",
       "      <td>1</td>\n",
       "    </tr>\n",
       "    <tr>\n",
       "      <th>763</th>\n",
       "      <td>Female</td>\n",
       "      <td>1</td>\n",
       "      <td>skilled</td>\n",
       "      <td>5</td>\n",
       "      <td>58</td>\n",
       "      <td>14.0</td>\n",
       "      <td>Default</td>\n",
       "      <td>critical</td>\n",
       "      <td>0</td>\n",
       "      <td>personal</td>\n",
       "      <td>0</td>\n",
       "    </tr>\n",
       "    <tr>\n",
       "      <th>764</th>\n",
       "      <td>Female</td>\n",
       "      <td>1</td>\n",
       "      <td>skilled</td>\n",
       "      <td>6</td>\n",
       "      <td>58</td>\n",
       "      <td>14.0</td>\n",
       "      <td>Default</td>\n",
       "      <td>critical</td>\n",
       "      <td>0</td>\n",
       "      <td>personal</td>\n",
       "      <td>0</td>\n",
       "    </tr>\n",
       "    <tr>\n",
       "      <th>765</th>\n",
       "      <td>Male</td>\n",
       "      <td>1</td>\n",
       "      <td>skilled</td>\n",
       "      <td>1</td>\n",
       "      <td>42</td>\n",
       "      <td>14.0</td>\n",
       "      <td>Default</td>\n",
       "      <td>critical</td>\n",
       "      <td>0</td>\n",
       "      <td>consumer.durable</td>\n",
       "      <td>0</td>\n",
       "    </tr>\n",
       "    <tr>\n",
       "      <th>766</th>\n",
       "      <td>Male</td>\n",
       "      <td>1</td>\n",
       "      <td>skilled</td>\n",
       "      <td>4</td>\n",
       "      <td>47</td>\n",
       "      <td>14.0</td>\n",
       "      <td>Default</td>\n",
       "      <td>critical</td>\n",
       "      <td>0</td>\n",
       "      <td>consumer.durable</td>\n",
       "      <td>0</td>\n",
       "    </tr>\n",
       "    <tr>\n",
       "      <th>767</th>\n",
       "      <td>Male</td>\n",
       "      <td>1</td>\n",
       "      <td>skilled</td>\n",
       "      <td>3</td>\n",
       "      <td>47</td>\n",
       "      <td>14.2</td>\n",
       "      <td>Default</td>\n",
       "      <td>critical</td>\n",
       "      <td>0</td>\n",
       "      <td>consumer.durable</td>\n",
       "      <td>0</td>\n",
       "    </tr>\n",
       "    <tr>\n",
       "      <th>768</th>\n",
       "      <td>Male</td>\n",
       "      <td>1</td>\n",
       "      <td>skilled</td>\n",
       "      <td>1</td>\n",
       "      <td>42</td>\n",
       "      <td>14.2</td>\n",
       "      <td>Default</td>\n",
       "      <td>critical</td>\n",
       "      <td>0</td>\n",
       "      <td>consumer.durable</td>\n",
       "      <td>0</td>\n",
       "    </tr>\n",
       "    <tr>\n",
       "      <th>769</th>\n",
       "      <td>Male</td>\n",
       "      <td>1</td>\n",
       "      <td>skilled</td>\n",
       "      <td>4</td>\n",
       "      <td>52</td>\n",
       "      <td>14.3</td>\n",
       "      <td>Default</td>\n",
       "      <td>good</td>\n",
       "      <td>0</td>\n",
       "      <td>car</td>\n",
       "      <td>0</td>\n",
       "    </tr>\n",
       "    <tr>\n",
       "      <th>770</th>\n",
       "      <td>Male</td>\n",
       "      <td>1</td>\n",
       "      <td>skilled</td>\n",
       "      <td>3</td>\n",
       "      <td>42</td>\n",
       "      <td>14.3</td>\n",
       "      <td>Default</td>\n",
       "      <td>good</td>\n",
       "      <td>0</td>\n",
       "      <td>car</td>\n",
       "      <td>0</td>\n",
       "    </tr>\n",
       "    <tr>\n",
       "      <th>771</th>\n",
       "      <td>Male</td>\n",
       "      <td>1</td>\n",
       "      <td>skilled</td>\n",
       "      <td>3</td>\n",
       "      <td>52</td>\n",
       "      <td>14.4</td>\n",
       "      <td>Default</td>\n",
       "      <td>good</td>\n",
       "      <td>0</td>\n",
       "      <td>car</td>\n",
       "      <td>0</td>\n",
       "    </tr>\n",
       "    <tr>\n",
       "      <th>772</th>\n",
       "      <td>Male</td>\n",
       "      <td>1</td>\n",
       "      <td>skilled</td>\n",
       "      <td>7</td>\n",
       "      <td>59</td>\n",
       "      <td>14.4</td>\n",
       "      <td>Default</td>\n",
       "      <td>good</td>\n",
       "      <td>0</td>\n",
       "      <td>car</td>\n",
       "      <td>0</td>\n",
       "    </tr>\n",
       "    <tr>\n",
       "      <th>773</th>\n",
       "      <td>Male</td>\n",
       "      <td>1</td>\n",
       "      <td>skilled</td>\n",
       "      <td>7</td>\n",
       "      <td>59</td>\n",
       "      <td>14.4</td>\n",
       "      <td>Default</td>\n",
       "      <td>good</td>\n",
       "      <td>0</td>\n",
       "      <td>car</td>\n",
       "      <td>0</td>\n",
       "    </tr>\n",
       "    <tr>\n",
       "      <th>774</th>\n",
       "      <td>Male</td>\n",
       "      <td>0</td>\n",
       "      <td>unskilled</td>\n",
       "      <td>10</td>\n",
       "      <td>65</td>\n",
       "      <td>14.6</td>\n",
       "      <td>Default</td>\n",
       "      <td>poor</td>\n",
       "      <td>0</td>\n",
       "      <td>personal</td>\n",
       "      <td>0</td>\n",
       "    </tr>\n",
       "    <tr>\n",
       "      <th>775</th>\n",
       "      <td>Male</td>\n",
       "      <td>0</td>\n",
       "      <td>unskilled</td>\n",
       "      <td>2</td>\n",
       "      <td>46</td>\n",
       "      <td>14.7</td>\n",
       "      <td>Default</td>\n",
       "      <td>critical</td>\n",
       "      <td>0</td>\n",
       "      <td>consumer.durable</td>\n",
       "      <td>0</td>\n",
       "    </tr>\n",
       "    <tr>\n",
       "      <th>776</th>\n",
       "      <td>Male</td>\n",
       "      <td>0</td>\n",
       "      <td>unskilled</td>\n",
       "      <td>2</td>\n",
       "      <td>46</td>\n",
       "      <td>14.7</td>\n",
       "      <td>Default</td>\n",
       "      <td>critical</td>\n",
       "      <td>0</td>\n",
       "      <td>consumer.durable</td>\n",
       "      <td>0</td>\n",
       "    </tr>\n",
       "    <tr>\n",
       "      <th>777</th>\n",
       "      <td>Male</td>\n",
       "      <td>0</td>\n",
       "      <td>unskilled</td>\n",
       "      <td>3</td>\n",
       "      <td>54</td>\n",
       "      <td>14.7</td>\n",
       "      <td>Default</td>\n",
       "      <td>good</td>\n",
       "      <td>0</td>\n",
       "      <td>car</td>\n",
       "      <td>0</td>\n",
       "    </tr>\n",
       "    <tr>\n",
       "      <th>778</th>\n",
       "      <td>Male</td>\n",
       "      <td>0</td>\n",
       "      <td>unskilled</td>\n",
       "      <td>3</td>\n",
       "      <td>51</td>\n",
       "      <td>14.8</td>\n",
       "      <td>Default</td>\n",
       "      <td>verygood</td>\n",
       "      <td>0</td>\n",
       "      <td>car</td>\n",
       "      <td>0</td>\n",
       "    </tr>\n",
       "    <tr>\n",
       "      <th>779</th>\n",
       "      <td>Male</td>\n",
       "      <td>0</td>\n",
       "      <td>unskilled</td>\n",
       "      <td>3</td>\n",
       "      <td>54</td>\n",
       "      <td>14.8</td>\n",
       "      <td>Default</td>\n",
       "      <td>good</td>\n",
       "      <td>0</td>\n",
       "      <td>car</td>\n",
       "      <td>0</td>\n",
       "    </tr>\n",
       "    <tr>\n",
       "      <th>780</th>\n",
       "      <td>Male</td>\n",
       "      <td>0</td>\n",
       "      <td>unskilled</td>\n",
       "      <td>3</td>\n",
       "      <td>51</td>\n",
       "      <td>14.8</td>\n",
       "      <td>Default</td>\n",
       "      <td>verygood</td>\n",
       "      <td>0</td>\n",
       "      <td>car</td>\n",
       "      <td>0</td>\n",
       "    </tr>\n",
       "  </tbody>\n",
       "</table>\n",
       "</div>"
      ],
      "text/plain": [
       "     Gender  Loan.Offered         Job  Work.Exp  Credit.Score  EMI.Ratio  \\\n",
       "761    Male             1  Management         0            43       14.0   \n",
       "762    Male             1  Management         2            47       14.0   \n",
       "763  Female             1     skilled         5            58       14.0   \n",
       "764  Female             1     skilled         6            58       14.0   \n",
       "765    Male             1     skilled         1            42       14.0   \n",
       "766    Male             1     skilled         4            47       14.0   \n",
       "767    Male             1     skilled         3            47       14.2   \n",
       "768    Male             1     skilled         1            42       14.2   \n",
       "769    Male             1     skilled         4            52       14.3   \n",
       "770    Male             1     skilled         3            42       14.3   \n",
       "771    Male             1     skilled         3            52       14.4   \n",
       "772    Male             1     skilled         7            59       14.4   \n",
       "773    Male             1     skilled         7            59       14.4   \n",
       "774    Male             0   unskilled        10            65       14.6   \n",
       "775    Male             0   unskilled         2            46       14.7   \n",
       "776    Male             0   unskilled         2            46       14.7   \n",
       "777    Male             0   unskilled         3            54       14.7   \n",
       "778    Male             0   unskilled         3            51       14.8   \n",
       "779    Male             0   unskilled         3            54       14.8   \n",
       "780    Male             0   unskilled         3            51       14.8   \n",
       "\n",
       "      Status Credit.History  Own house           Purpose  Dependents  \n",
       "761  Default           good          0               car           1  \n",
       "762  Default       verygood          0               car           1  \n",
       "763  Default       critical          0          personal           0  \n",
       "764  Default       critical          0          personal           0  \n",
       "765  Default       critical          0  consumer.durable           0  \n",
       "766  Default       critical          0  consumer.durable           0  \n",
       "767  Default       critical          0  consumer.durable           0  \n",
       "768  Default       critical          0  consumer.durable           0  \n",
       "769  Default           good          0               car           0  \n",
       "770  Default           good          0               car           0  \n",
       "771  Default           good          0               car           0  \n",
       "772  Default           good          0               car           0  \n",
       "773  Default           good          0               car           0  \n",
       "774  Default           poor          0          personal           0  \n",
       "775  Default       critical          0  consumer.durable           0  \n",
       "776  Default       critical          0  consumer.durable           0  \n",
       "777  Default           good          0               car           0  \n",
       "778  Default       verygood          0               car           0  \n",
       "779  Default           good          0               car           0  \n",
       "780  Default       verygood          0               car           0  "
      ]
     },
     "execution_count": 4,
     "metadata": {},
     "output_type": "execute_result"
    }
   ],
   "source": [
    "data_df.tail(20)"
   ]
  },
  {
   "cell_type": "code",
   "execution_count": 5,
   "metadata": {
    "ExecuteTime": {
     "end_time": "2020-03-03T12:25:14.193463Z",
     "start_time": "2020-03-03T12:25:13.829319Z"
    }
   },
   "outputs": [
    {
     "data": {
      "text/html": [
       "<div>\n",
       "<style scoped>\n",
       "    .dataframe tbody tr th:only-of-type {\n",
       "        vertical-align: middle;\n",
       "    }\n",
       "\n",
       "    .dataframe tbody tr th {\n",
       "        vertical-align: top;\n",
       "    }\n",
       "\n",
       "    .dataframe thead th {\n",
       "        text-align: right;\n",
       "    }\n",
       "</style>\n",
       "<table border=\"1\" class=\"dataframe\">\n",
       "  <thead>\n",
       "    <tr style=\"text-align: right;\">\n",
       "      <th></th>\n",
       "      <th>Loan.Offered</th>\n",
       "      <th>Work.Exp</th>\n",
       "      <th>Credit.Score</th>\n",
       "      <th>EMI.Ratio</th>\n",
       "      <th>Own house</th>\n",
       "      <th>Dependents</th>\n",
       "    </tr>\n",
       "  </thead>\n",
       "  <tbody>\n",
       "    <tr>\n",
       "      <th>count</th>\n",
       "      <td>781.000000</td>\n",
       "      <td>781.000000</td>\n",
       "      <td>781.000000</td>\n",
       "      <td>781.000000</td>\n",
       "      <td>781.000000</td>\n",
       "      <td>781.000000</td>\n",
       "    </tr>\n",
       "    <tr>\n",
       "      <th>mean</th>\n",
       "      <td>0.756722</td>\n",
       "      <td>12.377721</td>\n",
       "      <td>83.597951</td>\n",
       "      <td>9.495006</td>\n",
       "      <td>0.768246</td>\n",
       "      <td>2.081946</td>\n",
       "    </tr>\n",
       "    <tr>\n",
       "      <th>std</th>\n",
       "      <td>0.429336</td>\n",
       "      <td>3.809161</td>\n",
       "      <td>12.040410</td>\n",
       "      <td>2.786867</td>\n",
       "      <td>0.422223</td>\n",
       "      <td>1.068641</td>\n",
       "    </tr>\n",
       "    <tr>\n",
       "      <th>min</th>\n",
       "      <td>0.000000</td>\n",
       "      <td>0.000000</td>\n",
       "      <td>42.000000</td>\n",
       "      <td>3.000000</td>\n",
       "      <td>0.000000</td>\n",
       "      <td>0.000000</td>\n",
       "    </tr>\n",
       "    <tr>\n",
       "      <th>25%</th>\n",
       "      <td>1.000000</td>\n",
       "      <td>11.000000</td>\n",
       "      <td>83.000000</td>\n",
       "      <td>7.400000</td>\n",
       "      <td>1.000000</td>\n",
       "      <td>2.000000</td>\n",
       "    </tr>\n",
       "    <tr>\n",
       "      <th>50%</th>\n",
       "      <td>1.000000</td>\n",
       "      <td>13.000000</td>\n",
       "      <td>87.000000</td>\n",
       "      <td>9.500000</td>\n",
       "      <td>1.000000</td>\n",
       "      <td>2.000000</td>\n",
       "    </tr>\n",
       "    <tr>\n",
       "      <th>75%</th>\n",
       "      <td>1.000000</td>\n",
       "      <td>15.000000</td>\n",
       "      <td>91.000000</td>\n",
       "      <td>11.400000</td>\n",
       "      <td>1.000000</td>\n",
       "      <td>3.000000</td>\n",
       "    </tr>\n",
       "    <tr>\n",
       "      <th>max</th>\n",
       "      <td>1.000000</td>\n",
       "      <td>19.000000</td>\n",
       "      <td>99.000000</td>\n",
       "      <td>15.000000</td>\n",
       "      <td>1.000000</td>\n",
       "      <td>4.000000</td>\n",
       "    </tr>\n",
       "  </tbody>\n",
       "</table>\n",
       "</div>"
      ],
      "text/plain": [
       "       Loan.Offered    Work.Exp  Credit.Score   EMI.Ratio   Own house  \\\n",
       "count    781.000000  781.000000    781.000000  781.000000  781.000000   \n",
       "mean       0.756722   12.377721     83.597951    9.495006    0.768246   \n",
       "std        0.429336    3.809161     12.040410    2.786867    0.422223   \n",
       "min        0.000000    0.000000     42.000000    3.000000    0.000000   \n",
       "25%        1.000000   11.000000     83.000000    7.400000    1.000000   \n",
       "50%        1.000000   13.000000     87.000000    9.500000    1.000000   \n",
       "75%        1.000000   15.000000     91.000000   11.400000    1.000000   \n",
       "max        1.000000   19.000000     99.000000   15.000000    1.000000   \n",
       "\n",
       "       Dependents  \n",
       "count  781.000000  \n",
       "mean     2.081946  \n",
       "std      1.068641  \n",
       "min      0.000000  \n",
       "25%      2.000000  \n",
       "50%      2.000000  \n",
       "75%      3.000000  \n",
       "max      4.000000  "
      ]
     },
     "execution_count": 5,
     "metadata": {},
     "output_type": "execute_result"
    }
   ],
   "source": [
    "data_df.describe()"
   ]
  },
  {
   "cell_type": "code",
   "execution_count": 6,
   "metadata": {
    "ExecuteTime": {
     "end_time": "2020-03-03T12:25:14.227403Z",
     "start_time": "2020-03-03T12:25:14.195457Z"
    }
   },
   "outputs": [
    {
     "data": {
      "text/plain": [
       "Gender             object\n",
       "Loan.Offered        int64\n",
       "Job                object\n",
       "Work.Exp            int64\n",
       "Credit.Score        int64\n",
       "EMI.Ratio         float64\n",
       "Status             object\n",
       "Credit.History     object\n",
       "Own house           int64\n",
       "Purpose            object\n",
       "Dependents          int64\n",
       "dtype: object"
      ]
     },
     "execution_count": 6,
     "metadata": {},
     "output_type": "execute_result"
    }
   ],
   "source": [
    "data_df.dtypes"
   ]
  },
  {
   "cell_type": "code",
   "execution_count": 7,
   "metadata": {
    "ExecuteTime": {
     "end_time": "2020-03-03T12:25:14.310386Z",
     "start_time": "2020-03-03T12:25:14.229367Z"
    }
   },
   "outputs": [
    {
     "data": {
      "text/plain": [
       "pandas.core.frame.DataFrame"
      ]
     },
     "execution_count": 7,
     "metadata": {},
     "output_type": "execute_result"
    }
   ],
   "source": [
    "type(data_df)"
   ]
  },
  {
   "cell_type": "markdown",
   "metadata": {},
   "source": [
    "# Check for missing values"
   ]
  },
  {
   "cell_type": "code",
   "execution_count": 8,
   "metadata": {
    "ExecuteTime": {
     "end_time": "2020-03-03T12:25:14.386527Z",
     "start_time": "2020-03-03T12:25:14.311353Z"
    }
   },
   "outputs": [
    {
     "data": {
      "text/plain": [
       "Gender            0\n",
       "Loan.Offered      0\n",
       "Job               0\n",
       "Work.Exp          0\n",
       "Credit.Score      0\n",
       "EMI.Ratio         0\n",
       "Status            0\n",
       "Credit.History    0\n",
       "Own house         0\n",
       "Purpose           0\n",
       "Dependents        0\n",
       "dtype: int64"
      ]
     },
     "execution_count": 8,
     "metadata": {},
     "output_type": "execute_result"
    }
   ],
   "source": [
    "data_df.isnull().sum()"
   ]
  },
  {
   "cell_type": "markdown",
   "metadata": {},
   "source": [
    "No Missing values"
   ]
  },
  {
   "cell_type": "code",
   "execution_count": 9,
   "metadata": {
    "ExecuteTime": {
     "end_time": "2020-03-03T12:25:14.493259Z",
     "start_time": "2020-03-03T12:25:14.387521Z"
    },
    "scrolled": true
   },
   "outputs": [
    {
     "data": {
      "text/plain": [
       "(781, 11)"
      ]
     },
     "execution_count": 9,
     "metadata": {},
     "output_type": "execute_result"
    }
   ],
   "source": [
    "data_df.shape ### 781 rows and 11 features"
   ]
  },
  {
   "cell_type": "markdown",
   "metadata": {},
   "source": [
    "# Convert Own House into object"
   ]
  },
  {
   "cell_type": "code",
   "execution_count": 10,
   "metadata": {
    "ExecuteTime": {
     "end_time": "2020-03-03T12:25:14.568432Z",
     "start_time": "2020-03-03T12:25:14.495224Z"
    }
   },
   "outputs": [],
   "source": [
    "data_df['Own house']=data_df['Own house'].astype('object')"
   ]
  },
  {
   "cell_type": "markdown",
   "metadata": {},
   "source": [
    "# Find out unique values in each categorical column\n",
    "\n"
   ]
  },
  {
   "cell_type": "code",
   "execution_count": 11,
   "metadata": {
    "ExecuteTime": {
     "end_time": "2020-03-03T12:25:14.671668Z",
     "start_time": "2020-03-03T12:25:14.570309Z"
    }
   },
   "outputs": [
    {
     "data": {
      "text/plain": [
       "array(['Male', 'Female'], dtype=object)"
      ]
     },
     "execution_count": 11,
     "metadata": {},
     "output_type": "execute_result"
    }
   ],
   "source": [
    "data_df['Gender'].unique()"
   ]
  },
  {
   "cell_type": "code",
   "execution_count": 12,
   "metadata": {
    "ExecuteTime": {
     "end_time": "2020-03-03T12:25:14.761243Z",
     "start_time": "2020-03-03T12:25:14.672635Z"
    }
   },
   "outputs": [
    {
     "data": {
      "text/plain": [
       "array(['unskilled', 'skilled', 'Management'], dtype=object)"
      ]
     },
     "execution_count": 12,
     "metadata": {},
     "output_type": "execute_result"
    }
   ],
   "source": [
    "data_df['Job'].unique()"
   ]
  },
  {
   "cell_type": "code",
   "execution_count": 13,
   "metadata": {
    "ExecuteTime": {
     "end_time": "2020-03-03T12:25:14.845160Z",
     "start_time": "2020-03-03T12:25:14.763205Z"
    }
   },
   "outputs": [
    {
     "data": {
      "text/plain": [
       "array(['No', 'Default'], dtype=object)"
      ]
     },
     "execution_count": 13,
     "metadata": {},
     "output_type": "execute_result"
    }
   ],
   "source": [
    "data_df['Status'].unique() ### No means No Default"
   ]
  },
  {
   "cell_type": "code",
   "execution_count": 14,
   "metadata": {
    "ExecuteTime": {
     "end_time": "2020-03-03T12:25:14.931300Z",
     "start_time": "2020-03-03T12:25:14.846124Z"
    }
   },
   "outputs": [
    {
     "data": {
      "text/plain": [
       "array(['poor', 'critical', 'good', 'very good', 'verygood', 'Poor'],\n",
       "      dtype=object)"
      ]
     },
     "execution_count": 14,
     "metadata": {},
     "output_type": "execute_result"
    }
   ],
   "source": [
    "data_df['Credit.History'].unique()"
   ]
  },
  {
   "cell_type": "code",
   "execution_count": 15,
   "metadata": {
    "ExecuteTime": {
     "end_time": "2020-03-03T12:25:15.015194Z",
     "start_time": "2020-03-03T12:25:14.932297Z"
    }
   },
   "outputs": [
    {
     "data": {
      "text/plain": [
       "array([1, 0], dtype=object)"
      ]
     },
     "execution_count": 15,
     "metadata": {},
     "output_type": "execute_result"
    }
   ],
   "source": [
    "data_df['Own house'].unique()"
   ]
  },
  {
   "cell_type": "code",
   "execution_count": 16,
   "metadata": {
    "ExecuteTime": {
     "end_time": "2020-03-03T12:25:15.100336Z",
     "start_time": "2020-03-03T12:25:15.017189Z"
    }
   },
   "outputs": [
    {
     "data": {
      "text/plain": [
       "array(['personal', 'car', 'education', 'consumer.durable'], dtype=object)"
      ]
     },
     "execution_count": 16,
     "metadata": {},
     "output_type": "execute_result"
    }
   ],
   "source": [
    "data_df['Purpose'].unique()"
   ]
  },
  {
   "cell_type": "code",
   "execution_count": 17,
   "metadata": {
    "ExecuteTime": {
     "end_time": "2020-03-03T12:25:15.186034Z",
     "start_time": "2020-03-03T12:25:15.101334Z"
    }
   },
   "outputs": [
    {
     "data": {
      "text/plain": [
       "Gender             object\n",
       "Loan.Offered        int64\n",
       "Job                object\n",
       "Work.Exp            int64\n",
       "Credit.Score        int64\n",
       "EMI.Ratio         float64\n",
       "Status             object\n",
       "Credit.History     object\n",
       "Own house          object\n",
       "Purpose            object\n",
       "Dependents          int64\n",
       "dtype: object"
      ]
     },
     "execution_count": 17,
     "metadata": {},
     "output_type": "execute_result"
    }
   ],
   "source": [
    "data_df.dtypes"
   ]
  },
  {
   "cell_type": "markdown",
   "metadata": {},
   "source": [
    "# Clean the dataset -- Correction in the values"
   ]
  },
  {
   "cell_type": "code",
   "execution_count": 18,
   "metadata": {
    "ExecuteTime": {
     "end_time": "2020-03-03T12:25:15.325349Z",
     "start_time": "2020-03-03T12:25:15.188020Z"
    }
   },
   "outputs": [],
   "source": [
    "data_df['Credit.History']=np.where(data_df['Credit.History'] =='very good', 'verygood', data_df['Credit.History'])"
   ]
  },
  {
   "cell_type": "code",
   "execution_count": 19,
   "metadata": {
    "ExecuteTime": {
     "end_time": "2020-03-03T12:25:15.422143Z",
     "start_time": "2020-03-03T12:25:15.326307Z"
    }
   },
   "outputs": [],
   "source": [
    "data_df['Credit.History']=np.where(data_df['Credit.History'] =='Poor', 'poor', data_df['Credit.History'])"
   ]
  },
  {
   "cell_type": "code",
   "execution_count": 20,
   "metadata": {
    "ExecuteTime": {
     "end_time": "2020-03-03T12:25:15.507855Z",
     "start_time": "2020-03-03T12:25:15.424113Z"
    }
   },
   "outputs": [
    {
     "data": {
      "text/plain": [
       "array(['poor', 'critical', 'good', 'verygood'], dtype=object)"
      ]
     },
     "execution_count": 20,
     "metadata": {},
     "output_type": "execute_result"
    }
   ],
   "source": [
    "data_df['Credit.History'].unique()"
   ]
  },
  {
   "cell_type": "markdown",
   "metadata": {},
   "source": [
    "# Count of Default and No Default in the Target Column"
   ]
  },
  {
   "cell_type": "code",
   "execution_count": 21,
   "metadata": {
    "ExecuteTime": {
     "end_time": "2020-03-03T12:25:15.616240Z",
     "start_time": "2020-03-03T12:25:15.508821Z"
    }
   },
   "outputs": [
    {
     "data": {
      "text/plain": [
       "No         656\n",
       "Default    125\n",
       "Name: Status, dtype: int64"
      ]
     },
     "execution_count": 21,
     "metadata": {},
     "output_type": "execute_result"
    }
   ],
   "source": [
    "data_df['Status'].value_counts()"
   ]
  },
  {
   "cell_type": "markdown",
   "metadata": {},
   "source": [
    "# Univariate Plots\n"
   ]
  },
  {
   "cell_type": "code",
   "execution_count": 22,
   "metadata": {
    "ExecuteTime": {
     "end_time": "2020-03-03T12:25:16.227483Z",
     "start_time": "2020-03-03T12:25:15.617237Z"
    }
   },
   "outputs": [
    {
     "name": "stderr",
     "output_type": "stream",
     "text": [
      "/opt/anaconda3/lib/python3.9/site-packages/seaborn/distributions.py:2619: FutureWarning: `distplot` is a deprecated function and will be removed in a future version. Please adapt your code to use either `displot` (a figure-level function with similar flexibility) or `histplot` (an axes-level function for histograms).\n",
      "  warnings.warn(msg, FutureWarning)\n"
     ]
    },
    {
     "data": {
      "image/png": "[encoded data removed]",
      "text/plain": [
       "<Figure size 432x288 with 1 Axes>"
      ]
     },
     "metadata": {},
     "output_type": "display_data"
    }
   ],
   "source": [
    "sns.distplot(data_df['Work.Exp'])\n",
    "plt.show() ### Not required in this version, inserted just to show that if graph is not printing then this is required"
   ]
  },
  {
   "cell_type": "markdown",
   "metadata": {},
   "source": [
    "# Bivariate Analysis \n"
   ]
  },
  {
   "cell_type": "markdown",
   "metadata": {},
   "source": [
    "Bivariate shown below is only as a sample.. Reader is adviced to perform complete data exploration process"
   ]
  },
  {
   "cell_type": "code",
   "execution_count": 23,
   "metadata": {
    "ExecuteTime": {
     "end_time": "2020-03-03T12:25:17.394537Z",
     "start_time": "2020-03-03T12:25:16.228442Z"
    }
   },
   "outputs": [
    {
     "name": "stderr",
     "output_type": "stream",
     "text": [
      "/opt/anaconda3/lib/python3.9/site-packages/seaborn/_decorators.py:36: FutureWarning: Pass the following variables as keyword args: x, y. From version 0.12, the only valid positional argument will be `data`, and passing other arguments without an explicit keyword will result in an error or misinterpretation.\n",
      "  warnings.warn(\n"
     ]
    },
    {
     "ename": "AttributeError",
     "evalue": "'JointGrid' object has no attribute 'annotate'",
     "output_type": "error",
     "traceback": [
      "\u001b[0;31m---------------------------------------------------------------------------\u001b[0m",
      "\u001b[0;31mAttributeError\u001b[0m                            Traceback (most recent call last)",
      "\u001b[0;32m/var/folders/dx/jcm4swh51tg7m9g0c77wkt080000gn/T/ipykernel_7585/4046411353.py\u001b[0m in \u001b[0;36m<module>\u001b[0;34m\u001b[0m\n\u001b[0;32m----> 1\u001b[0;31m \u001b[0msns\u001b[0m\u001b[0;34m.\u001b[0m\u001b[0mjointplot\u001b[0m\u001b[0;34m(\u001b[0m\u001b[0mdata_df\u001b[0m\u001b[0;34m[\u001b[0m\u001b[0;34m'Work.Exp'\u001b[0m\u001b[0;34m]\u001b[0m\u001b[0;34m,\u001b[0m \u001b[0mdata_df\u001b[0m\u001b[0;34m[\u001b[0m\u001b[0;34m'Loan.Offered'\u001b[0m\u001b[0;34m]\u001b[0m\u001b[0;34m)\u001b[0m\u001b[0;34m.\u001b[0m\u001b[0mannotate\u001b[0m\u001b[0;34m(\u001b[0m\u001b[0mstats\u001b[0m\u001b[0;34m.\u001b[0m\u001b[0mpearsonr\u001b[0m\u001b[0;34m)\u001b[0m \u001b[0;31m### annotate function of stats is to print correlation value\u001b[0m\u001b[0;34m\u001b[0m\u001b[0;34m\u001b[0m\u001b[0m\n\u001b[0m",
      "\u001b[0;31mAttributeError\u001b[0m: 'JointGrid' object has no attribute 'annotate'"
     ]
    },
    {
     "data": {
      "image/png": "[encoded data removed]",
      "text/plain": [
       "<Figure size 432x432 with 3 Axes>"
      ]
     },
     "metadata": {},
     "output_type": "display_data"
    }
   ],
   "source": [
    "sns.jointplot(data_df['Work.Exp'], data_df['Loan.Offered']).annotate(stats.pearsonr) ### annotate function of stats is to print correlation value"
   ]
  },
  {
   "cell_type": "code",
   "execution_count": 24,
   "metadata": {
    "ExecuteTime": {
     "end_time": "2020-03-03T12:25:17.607108Z",
     "start_time": "2020-03-03T12:25:17.395500Z"
    }
   },
   "outputs": [
    {
     "name": "stderr",
     "output_type": "stream",
     "text": [
      "/opt/anaconda3/lib/python3.9/site-packages/seaborn/_decorators.py:36: FutureWarning: Pass the following variables as keyword args: x, y. From version 0.12, the only valid positional argument will be `data`, and passing other arguments without an explicit keyword will result in an error or misinterpretation.\n",
      "  warnings.warn(\n"
     ]
    },
    {
     "data": {
      "text/plain": [
       "<AxesSubplot:xlabel='Status', ylabel='Work.Exp'>"
      ]
     },
     "execution_count": 24,
     "metadata": {},
     "output_type": "execute_result"
    },
    {
     "data": {
      "image/png": "[encoded data removed]",
      "text/plain": [
       "<Figure size 432x288 with 1 Axes>"
      ]
     },
     "metadata": {},
     "output_type": "display_data"
    }
   ],
   "source": [
    "sns.stripplot(data_df['Status'], data_df['Work.Exp']) ### Concentration of observations"
   ]
  },
  {
   "cell_type": "markdown",
   "metadata": {},
   "source": [
    "Lower Work Experience have more concentration of Default.. Reader is adviced to perform more analysis and generate insight."
   ]
  },
  {
   "cell_type": "markdown",
   "metadata": {},
   "source": [
    "# Find the Distribution of Dependent Variable Categories\n"
   ]
  },
  {
   "cell_type": "code",
   "execution_count": 25,
   "metadata": {},
   "outputs": [
    {
     "data": {
      "text/plain": [
       "No         0.839949\n",
       "Default    0.160051\n",
       "Name: Status, dtype: float64"
      ]
     },
     "execution_count": 25,
     "metadata": {},
     "output_type": "execute_result"
    }
   ],
   "source": [
    "data_df['Status'].value_counts(normalize=True)"
   ]
  },
  {
   "cell_type": "code",
   "execution_count": 66,
   "metadata": {
    "ExecuteTime": {
     "end_time": "2020-03-03T12:25:17.618043Z",
     "start_time": "2020-03-03T12:25:17.609069Z"
    }
   },
   "outputs": [
    {
     "name": "stdout",
     "output_type": "stream",
     "text": [
      "percentage of no Default is 83.99487836107554\n",
      "percentage of Default 16.005121638924454\n"
     ]
    }
   ],
   "source": [
    "count_no_sub = len(data_df[data_df['Status']=='No'])\n",
    "count_sub = len(data_df[data_df['Status']=='Default'])\n",
    "pct_of_no_sub = count_no_sub/(count_no_sub+count_sub)\n",
    "print(\"percentage of no Default is\", pct_of_no_sub*100)\n",
    "pct_of_sub = count_sub/(count_no_sub+count_sub)\n",
    "print(\"percentage of Default\", pct_of_sub*100)"
   ]
  },
  {
   "cell_type": "markdown",
   "metadata": {},
   "source": [
    "Distribution is not biased and hence no need to use SMOTE or any other package to balance binary classes"
   ]
  },
  {
   "cell_type": "code",
   "execution_count": 26,
   "metadata": {
    "ExecuteTime": {
     "end_time": "2020-03-03T12:25:17.987423Z",
     "start_time": "2020-03-03T12:25:17.620040Z"
    }
   },
   "outputs": [
    {
     "data": {
      "text/plain": [
       "Text(0, 0.5, 'Status')"
      ]
     },
     "execution_count": 26,
     "metadata": {},
     "output_type": "execute_result"
    },
    {
     "data": {
      "image/png": "[encoded data removed]",
      "text/plain": [
       "<Figure size 432x288 with 1 Axes>"
      ]
     },
     "metadata": {},
     "output_type": "display_data"
    }
   ],
   "source": [
    "pd.crosstab(data_df.Dependents,data_df.Status).plot(kind='bar')\n",
    "plt.title('Dependents Vs. Status')\n",
    "plt.xlabel('Dependents')\n",
    "plt.ylabel('Status')\n"
   ]
  },
  {
   "cell_type": "markdown",
   "metadata": {},
   "source": [
    "Below commands are only done as a good practice.. Not mandatory"
   ]
  },
  {
   "cell_type": "code",
   "execution_count": 27,
   "metadata": {
    "ExecuteTime": {
     "end_time": "2020-03-03T12:25:17.996399Z",
     "start_time": "2020-03-03T12:25:17.989419Z"
    }
   },
   "outputs": [],
   "source": [
    "data_df.rename(columns = {'Own house':'Ownhouse'}, inplace = True) \n",
    "data_df.rename(columns = {'Loan.Offered':'LoanOffered'}, inplace = True) \n",
    "data_df.rename(columns = {'Work.Exp':'WorkExp'}, inplace = True) \n",
    "data_df.rename(columns = {'Credit.Score':'CreditScore'}, inplace = True) \n",
    "data_df.rename(columns = {'EMI.Ratio':'EMIRatio'}, inplace = True) \n",
    "data_df.rename(columns = {'Credit.History':'CreditHistory'}, inplace = True) \n"
   ]
  },
  {
   "cell_type": "code",
   "execution_count": 28,
   "metadata": {
    "ExecuteTime": {
     "end_time": "2020-03-03T12:25:48.201299Z",
     "start_time": "2020-03-03T12:25:48.190364Z"
    }
   },
   "outputs": [
    {
     "name": "stdout",
     "output_type": "stream",
     "text": [
      "<class 'pandas.core.frame.DataFrame'>\n",
      "RangeIndex: 781 entries, 0 to 780\n",
      "Data columns (total 11 columns):\n",
      " #   Column         Non-Null Count  Dtype  \n",
      "---  ------         --------------  -----  \n",
      " 0   Gender         781 non-null    object \n",
      " 1   LoanOffered    781 non-null    int64  \n",
      " 2   Job            781 non-null    object \n",
      " 3   WorkExp        781 non-null    int64  \n",
      " 4   CreditScore    781 non-null    int64  \n",
      " 5   EMIRatio       781 non-null    float64\n",
      " 6   Status         781 non-null    object \n",
      " 7   CreditHistory  781 non-null    object \n",
      " 8   Ownhouse       781 non-null    object \n",
      " 9   Purpose        781 non-null    object \n",
      " 10  Dependents     781 non-null    int64  \n",
      "dtypes: float64(1), int64(4), object(6)\n",
      "memory usage: 67.2+ KB\n"
     ]
    }
   ],
   "source": [
    "data_df.info()\n"
   ]
  },
  {
   "cell_type": "markdown",
   "metadata": {},
   "source": [
    "# Convert Object Feature types for Linear Discriminant Analysis"
   ]
  },
  {
   "cell_type": "code",
   "execution_count": 35,
   "metadata": {
    "ExecuteTime": {
     "end_time": "2020-03-03T12:25:50.317251Z",
     "start_time": "2020-03-03T12:25:50.309273Z"
    }
   },
   "outputs": [],
   "source": [
    "data_df['Gender']=np.where(data_df['Gender'] =='Male', '1', data_df['Gender'])\n",
    "data_df['Gender']=np.where(data_df['Gender'] =='Female', '0', data_df['Gender'])"
   ]
  },
  {
   "cell_type": "code",
   "execution_count": 36,
   "metadata": {
    "ExecuteTime": {
     "end_time": "2020-03-03T12:25:50.535911Z",
     "start_time": "2020-03-03T12:25:50.529897Z"
    }
   },
   "outputs": [],
   "source": [
    "data_df['Job']=np.where(data_df['Job'] =='Management', '2', data_df['Job'])\n",
    "data_df['Job']=np.where(data_df['Job'] =='unskilled', '0', data_df['Job'])\n",
    "data_df['Job']=np.where(data_df['Job'] =='skilled', '1', data_df['Job'])"
   ]
  },
  {
   "cell_type": "code",
   "execution_count": 37,
   "metadata": {
    "ExecuteTime": {
     "end_time": "2020-03-03T12:25:50.729991Z",
     "start_time": "2020-03-03T12:25:50.724009Z"
    }
   },
   "outputs": [],
   "source": [
    "data_df['CreditHistory']=np.where(data_df['CreditHistory'] =='critical', '0', data_df['CreditHistory'])\n",
    "data_df['CreditHistory']=np.where(data_df['CreditHistory'] =='poor', '1', data_df['CreditHistory'])\n",
    "data_df['CreditHistory']=np.where(data_df['CreditHistory'] =='good', '2', data_df['CreditHistory'])\n",
    "data_df['CreditHistory']=np.where(data_df['CreditHistory'] =='verygood', '3', data_df['CreditHistory'])"
   ]
  },
  {
   "cell_type": "code",
   "execution_count": 38,
   "metadata": {
    "ExecuteTime": {
     "end_time": "2020-03-03T12:25:50.936809Z",
     "start_time": "2020-03-03T12:25:50.928828Z"
    }
   },
   "outputs": [],
   "source": [
    "data_df['Purpose']=np.where(data_df['Purpose'] =='personal', '1', data_df['Purpose'])\n",
    "data_df['Purpose']=np.where(data_df['Purpose'] =='car', '0', data_df['Purpose'])\n",
    "data_df['Purpose']=np.where(data_df['Purpose'] =='education', '2', data_df['Purpose'])\n",
    "data_df['Purpose']=np.where(data_df['Purpose'] =='consumer.durable', '3', data_df['Purpose'])\n"
   ]
  },
  {
   "cell_type": "code",
   "execution_count": 39,
   "metadata": {
    "ExecuteTime": {
     "end_time": "2020-03-03T12:25:51.170385Z",
     "start_time": "2020-03-03T12:25:51.158419Z"
    }
   },
   "outputs": [
    {
     "data": {
      "text/html": [
       "<div>\n",
       "<style scoped>\n",
       "    .dataframe tbody tr th:only-of-type {\n",
       "        vertical-align: middle;\n",
       "    }\n",
       "\n",
       "    .dataframe tbody tr th {\n",
       "        vertical-align: top;\n",
       "    }\n",
       "\n",
       "    .dataframe thead th {\n",
       "        text-align: right;\n",
       "    }\n",
       "</style>\n",
       "<table border=\"1\" class=\"dataframe\">\n",
       "  <thead>\n",
       "    <tr style=\"text-align: right;\">\n",
       "      <th></th>\n",
       "      <th>Gender</th>\n",
       "      <th>LoanOffered</th>\n",
       "      <th>Job</th>\n",
       "      <th>WorkExp</th>\n",
       "      <th>CreditScore</th>\n",
       "      <th>EMIRatio</th>\n",
       "      <th>Status</th>\n",
       "      <th>CreditHistory</th>\n",
       "      <th>Ownhouse</th>\n",
       "      <th>Purpose</th>\n",
       "      <th>Dependents</th>\n",
       "    </tr>\n",
       "  </thead>\n",
       "  <tbody>\n",
       "    <tr>\n",
       "      <th>0</th>\n",
       "      <td>1</td>\n",
       "      <td>0</td>\n",
       "      <td>0</td>\n",
       "      <td>14</td>\n",
       "      <td>86</td>\n",
       "      <td>3.0</td>\n",
       "      <td>No</td>\n",
       "      <td>0</td>\n",
       "      <td>1</td>\n",
       "      <td>1</td>\n",
       "      <td>2</td>\n",
       "    </tr>\n",
       "    <tr>\n",
       "      <th>1</th>\n",
       "      <td>0</td>\n",
       "      <td>1</td>\n",
       "      <td>2</td>\n",
       "      <td>15</td>\n",
       "      <td>94</td>\n",
       "      <td>3.0</td>\n",
       "      <td>No</td>\n",
       "      <td>0</td>\n",
       "      <td>1</td>\n",
       "      <td>1</td>\n",
       "      <td>3</td>\n",
       "    </tr>\n",
       "    <tr>\n",
       "      <th>2</th>\n",
       "      <td>1</td>\n",
       "      <td>0</td>\n",
       "      <td>0</td>\n",
       "      <td>16</td>\n",
       "      <td>86</td>\n",
       "      <td>3.0</td>\n",
       "      <td>No</td>\n",
       "      <td>0</td>\n",
       "      <td>1</td>\n",
       "      <td>1</td>\n",
       "      <td>2</td>\n",
       "    </tr>\n",
       "    <tr>\n",
       "      <th>3</th>\n",
       "      <td>0</td>\n",
       "      <td>1</td>\n",
       "      <td>2</td>\n",
       "      <td>13</td>\n",
       "      <td>94</td>\n",
       "      <td>3.0</td>\n",
       "      <td>No</td>\n",
       "      <td>0</td>\n",
       "      <td>1</td>\n",
       "      <td>1</td>\n",
       "      <td>3</td>\n",
       "    </tr>\n",
       "    <tr>\n",
       "      <th>4</th>\n",
       "      <td>1</td>\n",
       "      <td>1</td>\n",
       "      <td>2</td>\n",
       "      <td>12</td>\n",
       "      <td>85</td>\n",
       "      <td>3.3</td>\n",
       "      <td>No</td>\n",
       "      <td>0</td>\n",
       "      <td>1</td>\n",
       "      <td>1</td>\n",
       "      <td>2</td>\n",
       "    </tr>\n",
       "  </tbody>\n",
       "</table>\n",
       "</div>"
      ],
      "text/plain": [
       "  Gender  LoanOffered Job  WorkExp  CreditScore  EMIRatio Status  \\\n",
       "0      1            0   0       14           86       3.0     No   \n",
       "1      0            1   2       15           94       3.0     No   \n",
       "2      1            0   0       16           86       3.0     No   \n",
       "3      0            1   2       13           94       3.0     No   \n",
       "4      1            1   2       12           85       3.3     No   \n",
       "\n",
       "  CreditHistory Ownhouse Purpose  Dependents  \n",
       "0             0        1       1           2  \n",
       "1             0        1       1           3  \n",
       "2             0        1       1           2  \n",
       "3             0        1       1           3  \n",
       "4             0        1       1           2  "
      ]
     },
     "execution_count": 39,
     "metadata": {},
     "output_type": "execute_result"
    }
   ],
   "source": [
    "data_df.head()"
   ]
  },
  {
   "cell_type": "code",
   "execution_count": 40,
   "metadata": {
    "ExecuteTime": {
     "end_time": "2020-03-03T12:25:51.363156Z",
     "start_time": "2020-03-03T12:25:51.345168Z"
    }
   },
   "outputs": [],
   "source": [
    "# Prepare training and test data and scale it\n",
    "X = np.asmatrix(data_df[['Gender','LoanOffered','Job','WorkExp','CreditScore','EMIRatio','CreditHistory','Ownhouse','Purpose','Dependents']])\n",
    "X = scale(X)\n",
    "Y = np.asarray(data_df[['Status']])"
   ]
  },
  {
   "cell_type": "code",
   "execution_count": 41,
   "metadata": {
    "ExecuteTime": {
     "end_time": "2020-03-03T12:25:51.746339Z",
     "start_time": "2020-03-03T12:25:51.546282Z"
    }
   },
   "outputs": [
    {
     "name": "stderr",
     "output_type": "stream",
     "text": [
      "/opt/anaconda3/lib/python3.9/site-packages/sklearn/utils/validation.py:63: DataConversionWarning: A column-vector y was passed when a 1d array was expected. Please change the shape of y to (n_samples, ), for example using ravel().\n",
      "  return f(*args, **kwargs)\n"
     ]
    },
    {
     "data": {
      "text/plain": [
       "LinearDiscriminantAnalysis()"
      ]
     },
     "execution_count": 41,
     "metadata": {},
     "output_type": "execute_result"
    }
   ],
   "source": [
    "#Build LDA Model\n",
    "# Refer details for LDA at http://scikit-learn.org/stable/modules/generated/sklearn.discriminant_analysis.LinearDiscriminantAnalysis.html\n",
    "clf = LinearDiscriminantAnalysis()\n",
    "model=clf.fit(X,Y)\n",
    "model"
   ]
  },
  {
   "cell_type": "code",
   "execution_count": 42,
   "metadata": {
    "ExecuteTime": {
     "end_time": "2020-03-03T12:25:51.809148Z",
     "start_time": "2020-03-03T12:25:51.804162Z"
    }
   },
   "outputs": [],
   "source": [
    "# Predict it\n",
    "pred_class = model.predict(X)\n",
    "data_df['Prediction'] = pred_class \n"
   ]
  },
  {
   "cell_type": "code",
   "execution_count": 82,
   "metadata": {
    "ExecuteTime": {
     "end_time": "2020-03-03T12:26:00.985776Z",
     "start_time": "2020-03-03T12:26:00.966829Z"
    }
   },
   "outputs": [
    {
     "data": {
      "text/html": [
       "<div>\n",
       "<style scoped>\n",
       "    .dataframe tbody tr th:only-of-type {\n",
       "        vertical-align: middle;\n",
       "    }\n",
       "\n",
       "    .dataframe tbody tr th {\n",
       "        vertical-align: top;\n",
       "    }\n",
       "\n",
       "    .dataframe thead th {\n",
       "        text-align: right;\n",
       "    }\n",
       "</style>\n",
       "<table border=\"1\" class=\"dataframe\">\n",
       "  <thead>\n",
       "    <tr style=\"text-align: right;\">\n",
       "      <th></th>\n",
       "      <th>LoanOffered</th>\n",
       "      <th>WorkExp</th>\n",
       "      <th>CreditScore</th>\n",
       "      <th>EMIRatio</th>\n",
       "      <th>Dependents</th>\n",
       "    </tr>\n",
       "  </thead>\n",
       "  <tbody>\n",
       "    <tr>\n",
       "      <th>LoanOffered</th>\n",
       "      <td>1.000000</td>\n",
       "      <td>-0.076224</td>\n",
       "      <td>-0.082435</td>\n",
       "      <td>0.057273</td>\n",
       "      <td>-0.029145</td>\n",
       "    </tr>\n",
       "    <tr>\n",
       "      <th>WorkExp</th>\n",
       "      <td>-0.076224</td>\n",
       "      <td>1.000000</td>\n",
       "      <td>0.915575</td>\n",
       "      <td>-0.300286</td>\n",
       "      <td>0.408753</td>\n",
       "    </tr>\n",
       "    <tr>\n",
       "      <th>CreditScore</th>\n",
       "      <td>-0.082435</td>\n",
       "      <td>0.915575</td>\n",
       "      <td>1.000000</td>\n",
       "      <td>-0.382192</td>\n",
       "      <td>0.490798</td>\n",
       "    </tr>\n",
       "    <tr>\n",
       "      <th>EMIRatio</th>\n",
       "      <td>0.057273</td>\n",
       "      <td>-0.300286</td>\n",
       "      <td>-0.382192</td>\n",
       "      <td>1.000000</td>\n",
       "      <td>-0.251782</td>\n",
       "    </tr>\n",
       "    <tr>\n",
       "      <th>Dependents</th>\n",
       "      <td>-0.029145</td>\n",
       "      <td>0.408753</td>\n",
       "      <td>0.490798</td>\n",
       "      <td>-0.251782</td>\n",
       "      <td>1.000000</td>\n",
       "    </tr>\n",
       "  </tbody>\n",
       "</table>\n",
       "</div>"
      ],
      "text/plain": [
       "             LoanOffered   WorkExp  CreditScore  EMIRatio  Dependents\n",
       "LoanOffered     1.000000 -0.076224    -0.082435  0.057273   -0.029145\n",
       "WorkExp        -0.076224  1.000000     0.915575 -0.300286    0.408753\n",
       "CreditScore    -0.082435  0.915575     1.000000 -0.382192    0.490798\n",
       "EMIRatio        0.057273 -0.300286    -0.382192  1.000000   -0.251782\n",
       "Dependents     -0.029145  0.408753     0.490798 -0.251782    1.000000"
      ]
     },
     "execution_count": 82,
     "metadata": {},
     "output_type": "execute_result"
    }
   ],
   "source": [
    "# Check Correlation values\n",
    "#Refer on correlation at https://pandas.pydata.org/pandas-docs/stable/generated/pandas.DataFrame.corr.html\n",
    "data= data_df[['Gender','LoanOffered','Job','WorkExp','CreditScore','EMIRatio','CreditHistory','Ownhouse','Purpose','Dependents']]\n",
    "Cor1 = data.corr()\n",
    "Cor1"
   ]
  },
  {
   "cell_type": "code",
   "execution_count": 80,
   "metadata": {
    "ExecuteTime": {
     "end_time": "2020-03-03T12:25:52.229307Z",
     "start_time": "2020-03-03T12:25:52.221359Z"
    }
   },
   "outputs": [
    {
     "data": {
      "text/plain": [
       "array([[124,   1],\n",
       "       [ 22, 634]], dtype=int64)"
      ]
     },
     "execution_count": 80,
     "metadata": {},
     "output_type": "execute_result"
    }
   ],
   "source": [
    "#generate Confusion Matrix\n",
    "# Please refer for confusion matrix http://scikit-learn.org/stable/modules/generated/sklearn.metrics.confusion_matrix.html\n",
    "confusion_matrix(Y, pred_class)"
   ]
  },
  {
   "cell_type": "code",
   "execution_count": 43,
   "metadata": {
    "ExecuteTime": {
     "end_time": "2020-03-03T12:25:52.483194Z",
     "start_time": "2020-03-03T12:25:52.462287Z"
    }
   },
   "outputs": [
    {
     "name": "stdout",
     "output_type": "stream",
     "text": [
      "              precision    recall  f1-score   support\n",
      "\n",
      "     Default       0.85      0.99      0.92       125\n",
      "          No       1.00      0.97      0.98       656\n",
      "\n",
      "    accuracy                           0.97       781\n",
      "   macro avg       0.92      0.98      0.95       781\n",
      "weighted avg       0.97      0.97      0.97       781\n",
      "\n"
     ]
    }
   ],
   "source": [
    "from sklearn.metrics import classification_report\n",
    "print(classification_report(Y, pred_class))"
   ]
  },
  {
   "cell_type": "code",
   "execution_count": null,
   "metadata": {},
   "outputs": [],
   "source": []
  }
 ],
 "metadata": {
  "kernelspec": {
   "display_name": "Python 3 (ipykernel)",
   "language": "python",
   "name": "python3"
  },
  "language_info": {
   "codemirror_mode": {
    "name": "ipython",
    "version": 3
   },
   "file_extension": ".py",
   "mimetype": "text/x-python",
   "name": "python",
   "nbconvert_exporter": "python",
   "pygments_lexer": "ipython3",
   "version": "3.9.7"
  },
  "toc": {
   "base_numbering": 1,
   "nav_menu": {},
   "number_sections": true,
   "sideBar": true,
   "skip_h1_title": false,
   "title_cell": "Table of Contents",
   "title_sidebar": "Contents",
   "toc_cell": false,
   "toc_position": {},
   "toc_section_display": true,
   "toc_window_display": false
  },
  "varInspector": {
   "cols": {
    "lenName": 16,
    "lenType": 16,
    "lenVar": 40
   },
   "kernels_config": {
    "python": {
     "delete_cmd_postfix": "",
     "delete_cmd_prefix": "del ",
     "library": "var_list.py",
     "varRefreshCmd": "print(var_dic_list())"
    },
    "r": {
     "delete_cmd_postfix": ") ",
     "delete_cmd_prefix": "rm(",
     "library": "var_list.r",
     "varRefreshCmd": "cat(var_dic_list()) "
    }
   },
   "types_to_exclude": [
    "module",
    "function",
    "builtin_function_or_method",
    "instance",
    "_Feature"
   ],
   "window_display": false
  }
 },
 "nbformat": 4,
 "nbformat_minor": 2
}
